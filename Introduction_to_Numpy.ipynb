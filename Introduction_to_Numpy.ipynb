{
  "nbformat": 4,
  "nbformat_minor": 0,
  "metadata": {
    "colab": {
      "name": "Introduction to Numpy.ipynb",
      "provenance": [],
      "collapsed_sections": [],
      "include_colab_link": true
    },
    "kernelspec": {
      "name": "python3",
      "display_name": "Python 3"
    }
  },
  "cells": [
    {
      "cell_type": "markdown",
      "metadata": {
        "id": "view-in-github",
        "colab_type": "text"
      },
      "source": [
        "<a href=\"https://colab.research.google.com/github/shubhanshu1995/My-Medium-Articles/blob/master/Introduction_to_Numpy.ipynb\" target=\"_parent\"><img src=\"https://colab.research.google.com/assets/colab-badge.svg\" alt=\"Open In Colab\"/></a>"
      ]
    },
    {
      "cell_type": "markdown",
      "metadata": {
        "id": "aKrcUWTQzBtU",
        "colab_type": "text"
      },
      "source": [
        "# **Medium Article Link to be added soon !!**\n",
        "\n",
        "## **Connect with me on:-**\n",
        "**Linkedin:** [shubhanshu001](https://www.linkedin.com/in/shubhanshu001/) <br />\n",
        "**Github:** [shubhanshu1995](https://github.com/shubhanshu1995) <br />\n",
        "**Medium:** [@shubhanshu1995](https://medium.com/@shubhanshu1995) <br />\n",
        "**Instagram:** [Shubhanshu Singh](https://www.instagram.com/shubhanshu._.singh/) <br />\n",
        "**Facebook:** [shubhanshu1995](https://www.facebook.com/shubhanshu1995) <br />\n",
        "**Twitter:** [TheCuriousLad](https://twitter.com/TheCuriousLad) <br />"
      ]
    },
    {
      "cell_type": "markdown",
      "metadata": {
        "id": "G9n_VWZAerO1",
        "colab_type": "text"
      },
      "source": [
        "# **Let's use NumPy**"
      ]
    },
    {
      "cell_type": "code",
      "metadata": {
        "id": "JsADI_exe_D8",
        "colab_type": "code",
        "colab": {}
      },
      "source": [
        "import numpy as np"
      ],
      "execution_count": 0,
      "outputs": []
    },
    {
      "cell_type": "markdown",
      "metadata": {
        "id": "C88SZp_lzQlY",
        "colab_type": "text"
      },
      "source": [
        "# **NumPy Arrays**"
      ]
    },
    {
      "cell_type": "markdown",
      "metadata": {
        "id": "HsP1g1wlzkzH",
        "colab_type": "text"
      },
      "source": [
        "## **Let's create NumPy Arrays using python Lists**"
      ]
    },
    {
      "cell_type": "code",
      "metadata": {
        "id": "4BcNRHtMe6hZ",
        "colab_type": "code",
        "outputId": "ca8ad04e-3a21-415b-c08f-20076978bb5e",
        "colab": {
          "base_uri": "https://localhost:8080/",
          "height": 35
        }
      },
      "source": [
        "just_a_list = [1,2,3]\n",
        "just_a_list"
      ],
      "execution_count": 0,
      "outputs": [
        {
          "output_type": "execute_result",
          "data": {
            "text/plain": [
              "[1, 2, 3]"
            ]
          },
          "metadata": {
            "tags": []
          },
          "execution_count": 9
        }
      ]
    },
    {
      "cell_type": "code",
      "metadata": {
        "id": "3EfU-oB10Jon",
        "colab_type": "code",
        "outputId": "17e61909-92c6-4af3-a593-763cf3f9668c",
        "colab": {
          "base_uri": "https://localhost:8080/",
          "height": 35
        }
      },
      "source": [
        "np.array(just_a_list)"
      ],
      "execution_count": 0,
      "outputs": [
        {
          "output_type": "execute_result",
          "data": {
            "text/plain": [
              "array([1, 2, 3])"
            ]
          },
          "metadata": {
            "tags": []
          },
          "execution_count": 10
        }
      ]
    },
    {
      "cell_type": "code",
      "metadata": {
        "id": "239QuzqN0Z8W",
        "colab_type": "code",
        "outputId": "0e44c6ce-f194-46b0-8b84-32548aeb11f2",
        "colab": {
          "base_uri": "https://localhost:8080/",
          "height": 35
        }
      },
      "source": [
        "just_a_matrix = [[1,2,3],[4,5,6],[7,8,9]]\n",
        "just_a_matrix"
      ],
      "execution_count": 0,
      "outputs": [
        {
          "output_type": "execute_result",
          "data": {
            "text/plain": [
              "[[1, 2, 3], [4, 5, 6], [7, 8, 9]]"
            ]
          },
          "metadata": {
            "tags": []
          },
          "execution_count": 205
        }
      ]
    },
    {
      "cell_type": "code",
      "metadata": {
        "id": "2qcM8SG1oqBK",
        "colab_type": "code",
        "outputId": "94392ef0-64e6-44b7-db44-9eec8d543f74",
        "colab": {
          "base_uri": "https://localhost:8080/",
          "height": 72
        }
      },
      "source": [
        "np.array(just_a_matrix)"
      ],
      "execution_count": 0,
      "outputs": [
        {
          "output_type": "execute_result",
          "data": {
            "text/plain": [
              "array([[1, 2, 3],\n",
              "       [4, 5, 6],\n",
              "       [7, 8, 9]])"
            ]
          },
          "metadata": {
            "tags": []
          },
          "execution_count": 206
        }
      ]
    },
    {
      "cell_type": "markdown",
      "metadata": {
        "id": "ZpMR3whN1Fdo",
        "colab_type": "text"
      },
      "source": [
        "## **Built-in Methods**"
      ]
    },
    {
      "cell_type": "markdown",
      "metadata": {
        "id": "Mo4BruUW1PB2",
        "colab_type": "text"
      },
      "source": [
        "## **arange**\n",
        "#### **It returns evenly spaced values within a given interval.**"
      ]
    },
    {
      "cell_type": "code",
      "metadata": {
        "id": "iIbBwa0504IF",
        "colab_type": "code",
        "outputId": "379812d6-bedd-4163-9e67-300fcd271466",
        "colab": {
          "base_uri": "https://localhost:8080/",
          "height": 54
        }
      },
      "source": [
        "np.arange(0,20)"
      ],
      "execution_count": 0,
      "outputs": [
        {
          "output_type": "execute_result",
          "data": {
            "text/plain": [
              "array([ 0,  1,  2,  3,  4,  5,  6,  7,  8,  9, 10, 11, 12, 13, 14, 15, 16,\n",
              "       17, 18, 19])"
            ]
          },
          "metadata": {
            "tags": []
          },
          "execution_count": 207
        }
      ]
    },
    {
      "cell_type": "code",
      "metadata": {
        "id": "EzMgORNr1D_F",
        "colab_type": "code",
        "outputId": "3ab86480-8886-4117-aa05-2c46fafc8da8",
        "colab": {
          "base_uri": "https://localhost:8080/",
          "height": 35
        }
      },
      "source": [
        "np.arange(0,10,2)"
      ],
      "execution_count": 0,
      "outputs": [
        {
          "output_type": "execute_result",
          "data": {
            "text/plain": [
              "array([0, 2, 4, 6, 8])"
            ]
          },
          "metadata": {
            "tags": []
          },
          "execution_count": 208
        }
      ]
    },
    {
      "cell_type": "markdown",
      "metadata": {
        "id": "kYn1_OgUFhW_",
        "colab_type": "text"
      },
      "source": [
        "## **Zeros and Ones**\n",
        "### **Let's generate arrays of zeros or ones**"
      ]
    },
    {
      "cell_type": "code",
      "metadata": {
        "id": "AXZijaEeD4Zp",
        "colab_type": "code",
        "outputId": "42638fe8-807a-4483-a7b4-be81e4d18103",
        "colab": {
          "base_uri": "https://localhost:8080/",
          "height": 35
        }
      },
      "source": [
        "np.zeros(4)"
      ],
      "execution_count": 0,
      "outputs": [
        {
          "output_type": "execute_result",
          "data": {
            "text/plain": [
              "array([0., 0., 0., 0.])"
            ]
          },
          "metadata": {
            "tags": []
          },
          "execution_count": 209
        }
      ]
    },
    {
      "cell_type": "code",
      "metadata": {
        "id": "Zqp8YRXEFznO",
        "colab_type": "code",
        "outputId": "a27e52ec-37e9-491c-9154-930408ae2f86",
        "colab": {
          "base_uri": "https://localhost:8080/",
          "height": 72
        }
      },
      "source": [
        "np.zeros((3,3))"
      ],
      "execution_count": 0,
      "outputs": [
        {
          "output_type": "execute_result",
          "data": {
            "text/plain": [
              "array([[0., 0., 0.],\n",
              "       [0., 0., 0.],\n",
              "       [0., 0., 0.]])"
            ]
          },
          "metadata": {
            "tags": []
          },
          "execution_count": 210
        }
      ]
    },
    {
      "cell_type": "code",
      "metadata": {
        "id": "CFFWlGtEHh1l",
        "colab_type": "code",
        "outputId": "92c42b07-aa27-4f58-dbc8-a5a5b179ff96",
        "colab": {
          "base_uri": "https://localhost:8080/",
          "height": 35
        }
      },
      "source": [
        "np.ones(4)"
      ],
      "execution_count": 0,
      "outputs": [
        {
          "output_type": "execute_result",
          "data": {
            "text/plain": [
              "array([1., 1., 1., 1.])"
            ]
          },
          "metadata": {
            "tags": []
          },
          "execution_count": 211
        }
      ]
    },
    {
      "cell_type": "code",
      "metadata": {
        "id": "ZWBd30S9HzSL",
        "colab_type": "code",
        "outputId": "152eb444-76c1-4315-bb6a-f080f7b511a8",
        "colab": {
          "base_uri": "https://localhost:8080/",
          "height": 72
        }
      },
      "source": [
        "np.ones((3,3))"
      ],
      "execution_count": 0,
      "outputs": [
        {
          "output_type": "execute_result",
          "data": {
            "text/plain": [
              "array([[1., 1., 1.],\n",
              "       [1., 1., 1.],\n",
              "       [1., 1., 1.]])"
            ]
          },
          "metadata": {
            "tags": []
          },
          "execution_count": 212
        }
      ]
    },
    {
      "cell_type": "markdown",
      "metadata": {
        "id": "dcVn1usNKjYS",
        "colab_type": "text"
      },
      "source": [
        "##**linspace**\n",
        "### **Return evenly spaced numbers over a specified interval.**"
      ]
    },
    {
      "cell_type": "code",
      "metadata": {
        "id": "dQkyuw3JIxeA",
        "colab_type": "code",
        "outputId": "fa2beb10-ee02-47f2-a45e-eb577dfa0b13",
        "colab": {
          "base_uri": "https://localhost:8080/",
          "height": 35
        }
      },
      "source": [
        "np.linspace(0,10,3)"
      ],
      "execution_count": 0,
      "outputs": [
        {
          "output_type": "execute_result",
          "data": {
            "text/plain": [
              "array([ 0.,  5., 10.])"
            ]
          },
          "metadata": {
            "tags": []
          },
          "execution_count": 213
        }
      ]
    },
    {
      "cell_type": "code",
      "metadata": {
        "id": "vrDr3cI_9ziG",
        "colab_type": "code",
        "outputId": "bf7f079d-350d-4aef-cbab-7e8f3d523ef9",
        "colab": {
          "base_uri": "https://localhost:8080/",
          "height": 90
        }
      },
      "source": [
        "np.linspace(0,10,20)"
      ],
      "execution_count": 0,
      "outputs": [
        {
          "output_type": "execute_result",
          "data": {
            "text/plain": [
              "array([ 0.        ,  0.52631579,  1.05263158,  1.57894737,  2.10526316,\n",
              "        2.63157895,  3.15789474,  3.68421053,  4.21052632,  4.73684211,\n",
              "        5.26315789,  5.78947368,  6.31578947,  6.84210526,  7.36842105,\n",
              "        7.89473684,  8.42105263,  8.94736842,  9.47368421, 10.        ])"
            ]
          },
          "metadata": {
            "tags": []
          },
          "execution_count": 273
        }
      ]
    },
    {
      "cell_type": "markdown",
      "metadata": {
        "id": "WPp3S_NRDgM7",
        "colab_type": "text"
      },
      "source": [
        "##**eye**"
      ]
    },
    {
      "cell_type": "markdown",
      "metadata": {
        "id": "wzFePMk-wcdf",
        "colab_type": "text"
      },
      "source": [
        "### **Creates an identity matrix**"
      ]
    },
    {
      "cell_type": "code",
      "metadata": {
        "id": "H0mDhwmaDY0C",
        "colab_type": "code",
        "outputId": "83c3c0e5-f74e-4e2d-c320-bca7770efb03",
        "colab": {
          "base_uri": "https://localhost:8080/",
          "height": 72
        }
      },
      "source": [
        "np.eye(3)"
      ],
      "execution_count": 0,
      "outputs": [
        {
          "output_type": "execute_result",
          "data": {
            "text/plain": [
              "array([[1., 0., 0.],\n",
              "       [0., 1., 0.],\n",
              "       [0., 0., 1.]])"
            ]
          },
          "metadata": {
            "tags": []
          },
          "execution_count": 215
        }
      ]
    },
    {
      "cell_type": "markdown",
      "metadata": {
        "id": "riZNV9YwImBK",
        "colab_type": "text"
      },
      "source": [
        "# **Random**\n",
        "Numpy also has lot of ways to create random number arrays:\n"
      ]
    },
    {
      "cell_type": "markdown",
      "metadata": {
        "id": "5PnExzPuyPo_",
        "colab_type": "text"
      },
      "source": [
        "## **rand**\n",
        "### **Create an array of the given shape and populate it with random samples from a uniform distribution over [0, 1).**"
      ]
    },
    {
      "cell_type": "code",
      "metadata": {
        "id": "aXyPVTxIDrAH",
        "colab_type": "code",
        "outputId": "4d9b447b-8312-4e2d-c86e-13f0f144a97e",
        "colab": {
          "base_uri": "https://localhost:8080/",
          "height": 35
        }
      },
      "source": [
        "np.random.rand(2)"
      ],
      "execution_count": 0,
      "outputs": [
        {
          "output_type": "execute_result",
          "data": {
            "text/plain": [
              "array([0.01231767, 0.24372946])"
            ]
          },
          "metadata": {
            "tags": []
          },
          "execution_count": 216
        }
      ]
    },
    {
      "cell_type": "code",
      "metadata": {
        "id": "69K7ZUmgxl_w",
        "colab_type": "code",
        "outputId": "4d36c1c6-f2e9-40b3-f4e9-08feaf6f8a74",
        "colab": {
          "base_uri": "https://localhost:8080/",
          "height": 72
        }
      },
      "source": [
        "np.random.rand(3,3)"
      ],
      "execution_count": 0,
      "outputs": [
        {
          "output_type": "execute_result",
          "data": {
            "text/plain": [
              "array([[0.75250092, 0.7582111 , 0.16155648],\n",
              "       [0.11020177, 0.51819124, 0.29267394],\n",
              "       [0.70052998, 0.58651773, 0.80589757]])"
            ]
          },
          "metadata": {
            "tags": []
          },
          "execution_count": 217
        }
      ]
    },
    {
      "cell_type": "markdown",
      "metadata": {
        "id": "pvPies9wLbIP",
        "colab_type": "text"
      },
      "source": [
        "## **randn**\n",
        "### **Return a sample (or samples) from the \"Standard Normal\" or \"Gaussian\" distribution. Unlike rand which is uniform:**"
      ]
    },
    {
      "cell_type": "code",
      "metadata": {
        "id": "n9O9GSwxLVHt",
        "colab_type": "code",
        "outputId": "19f76dd9-6ba6-4bd4-8ddd-a90f10ce25f6",
        "colab": {
          "base_uri": "https://localhost:8080/",
          "height": 35
        }
      },
      "source": [
        "np.random.randn(2)"
      ],
      "execution_count": 0,
      "outputs": [
        {
          "output_type": "execute_result",
          "data": {
            "text/plain": [
              "array([ 1.5868519 , -2.72817085])"
            ]
          },
          "metadata": {
            "tags": []
          },
          "execution_count": 218
        }
      ]
    },
    {
      "cell_type": "code",
      "metadata": {
        "id": "lvi3vGL5UsEu",
        "colab_type": "code",
        "outputId": "0dc7ed1d-4631-4cf0-feca-09564e5c6ae5",
        "colab": {
          "base_uri": "https://localhost:8080/",
          "height": 90
        }
      },
      "source": [
        "np.random.randn(4,4)"
      ],
      "execution_count": 0,
      "outputs": [
        {
          "output_type": "execute_result",
          "data": {
            "text/plain": [
              "array([[ 0.24602617, -2.39464955, -0.1382286 ,  1.47872422],\n",
              "       [ 0.70466341, -0.17408009, -2.22898345,  0.28018941],\n",
              "       [ 0.57969196,  0.00664889,  1.20221044,  0.47452959],\n",
              "       [ 0.93939176, -0.07719476, -0.08907384,  1.26465443]])"
            ]
          },
          "metadata": {
            "tags": []
          },
          "execution_count": 219
        }
      ]
    },
    {
      "cell_type": "markdown",
      "metadata": {
        "id": "Ut9RI41ygPBx",
        "colab_type": "text"
      },
      "source": [
        "## **randint**\n",
        "### **Return random integers from low (inclusive) to high (exclusive).**"
      ]
    },
    {
      "cell_type": "code",
      "metadata": {
        "id": "BNnqsVHQUvmu",
        "colab_type": "code",
        "outputId": "7d16b465-2e5a-4a25-8977-3fe118a3abe0",
        "colab": {
          "base_uri": "https://localhost:8080/",
          "height": 35
        }
      },
      "source": [
        "np.random.randint(1,100)"
      ],
      "execution_count": 0,
      "outputs": [
        {
          "output_type": "execute_result",
          "data": {
            "text/plain": [
              "84"
            ]
          },
          "metadata": {
            "tags": []
          },
          "execution_count": 220
        }
      ]
    },
    {
      "cell_type": "code",
      "metadata": {
        "id": "qkB2uECPhfj9",
        "colab_type": "code",
        "outputId": "f3db3f06-bbd5-420d-cbf4-4638fb47ef7f",
        "colab": {
          "base_uri": "https://localhost:8080/",
          "height": 35
        }
      },
      "source": [
        "np.random.randint(1,100,10)"
      ],
      "execution_count": 0,
      "outputs": [
        {
          "output_type": "execute_result",
          "data": {
            "text/plain": [
              "array([85, 30,  2, 72, 40, 86, 18, 46,  3, 24])"
            ]
          },
          "metadata": {
            "tags": []
          },
          "execution_count": 221
        }
      ]
    },
    {
      "cell_type": "markdown",
      "metadata": {
        "id": "FxCbQTqTmsHz",
        "colab_type": "text"
      },
      "source": [
        "# **Array Attributes and Methods**"
      ]
    },
    {
      "cell_type": "markdown",
      "metadata": {
        "id": "7fVCIqTjmxh-",
        "colab_type": "text"
      },
      "source": [
        "## **Reshape**\n",
        "###**Returns an array containing the same data with a new shape.**"
      ]
    },
    {
      "cell_type": "code",
      "metadata": {
        "id": "ZwpREYgxi9V3",
        "colab_type": "code",
        "colab": {}
      },
      "source": [
        "arr = np.arange(16)"
      ],
      "execution_count": 0,
      "outputs": []
    },
    {
      "cell_type": "code",
      "metadata": {
        "id": "W87NKYTqnrB_",
        "colab_type": "code",
        "outputId": "3b1e945b-19c4-4a62-fe7e-9709657d47cd",
        "colab": {
          "base_uri": "https://localhost:8080/",
          "height": 35
        }
      },
      "source": [
        "arr"
      ],
      "execution_count": 0,
      "outputs": [
        {
          "output_type": "execute_result",
          "data": {
            "text/plain": [
              "array([ 0,  1,  2,  3,  4,  5,  6,  7,  8,  9, 10, 11, 12, 13, 14, 15])"
            ]
          },
          "metadata": {
            "tags": []
          },
          "execution_count": 223
        }
      ]
    },
    {
      "cell_type": "code",
      "metadata": {
        "id": "72cpkj4gnih3",
        "colab_type": "code",
        "outputId": "d8ac226c-b426-4b07-e8ef-c6e99373d689",
        "colab": {
          "base_uri": "https://localhost:8080/",
          "height": 90
        }
      },
      "source": [
        "arr.reshape(4,4)"
      ],
      "execution_count": 0,
      "outputs": [
        {
          "output_type": "execute_result",
          "data": {
            "text/plain": [
              "array([[ 0,  1,  2,  3],\n",
              "       [ 4,  5,  6,  7],\n",
              "       [ 8,  9, 10, 11],\n",
              "       [12, 13, 14, 15]])"
            ]
          },
          "metadata": {
            "tags": []
          },
          "execution_count": 224
        }
      ]
    },
    {
      "cell_type": "markdown",
      "metadata": {
        "id": "n6BZA0aDr0H3",
        "colab_type": "text"
      },
      "source": [
        "## **max,min,argmax,argmin**\n",
        "### **These are useful methods for finding max or min values. Or to find their index locations using argmin or argmax**"
      ]
    },
    {
      "cell_type": "code",
      "metadata": {
        "id": "rHEb4uGWno3H",
        "colab_type": "code",
        "colab": {}
      },
      "source": [
        "random_arr = np.random.randint(0,50,10)"
      ],
      "execution_count": 0,
      "outputs": []
    },
    {
      "cell_type": "code",
      "metadata": {
        "id": "kngeY4x2sXjw",
        "colab_type": "code",
        "outputId": "9585a795-6403-4e54-b956-58b45af46aed",
        "colab": {
          "base_uri": "https://localhost:8080/",
          "height": 35
        }
      },
      "source": [
        "random_arr"
      ],
      "execution_count": 0,
      "outputs": [
        {
          "output_type": "execute_result",
          "data": {
            "text/plain": [
              "array([16,  8, 40,  7, 15, 39,  0, 15, 20, 35])"
            ]
          },
          "metadata": {
            "tags": []
          },
          "execution_count": 226
        }
      ]
    },
    {
      "cell_type": "code",
      "metadata": {
        "id": "tIzuGHJvsdFx",
        "colab_type": "code",
        "outputId": "2e12736b-f309-41a2-ab4a-3a1aa6786e98",
        "colab": {
          "base_uri": "https://localhost:8080/",
          "height": 35
        }
      },
      "source": [
        "random_arr.max()"
      ],
      "execution_count": 0,
      "outputs": [
        {
          "output_type": "execute_result",
          "data": {
            "text/plain": [
              "40"
            ]
          },
          "metadata": {
            "tags": []
          },
          "execution_count": 227
        }
      ]
    },
    {
      "cell_type": "code",
      "metadata": {
        "id": "6E7dNtUWsh02",
        "colab_type": "code",
        "outputId": "9fcc6ef4-552b-485b-f37c-776d32f89d79",
        "colab": {
          "base_uri": "https://localhost:8080/",
          "height": 35
        }
      },
      "source": [
        "\n",
        "\n",
        "random_arr.argmax()"
      ],
      "execution_count": 0,
      "outputs": [
        {
          "output_type": "execute_result",
          "data": {
            "text/plain": [
              "2"
            ]
          },
          "metadata": {
            "tags": []
          },
          "execution_count": 228
        }
      ]
    },
    {
      "cell_type": "code",
      "metadata": {
        "id": "MyEkXCiLsog7",
        "colab_type": "code",
        "outputId": "05b7eab7-921c-466c-82c2-f93fb9465212",
        "colab": {
          "base_uri": "https://localhost:8080/",
          "height": 35
        }
      },
      "source": [
        "random_arr.min()"
      ],
      "execution_count": 0,
      "outputs": [
        {
          "output_type": "execute_result",
          "data": {
            "text/plain": [
              "0"
            ]
          },
          "metadata": {
            "tags": []
          },
          "execution_count": 229
        }
      ]
    },
    {
      "cell_type": "code",
      "metadata": {
        "id": "UeLr6nY4sunk",
        "colab_type": "code",
        "outputId": "50b062d5-d3ef-4584-fe5d-a6c0d7156d3e",
        "colab": {
          "base_uri": "https://localhost:8080/",
          "height": 35
        }
      },
      "source": [
        "random_arr.argmin()"
      ],
      "execution_count": 0,
      "outputs": [
        {
          "output_type": "execute_result",
          "data": {
            "text/plain": [
              "6"
            ]
          },
          "metadata": {
            "tags": []
          },
          "execution_count": 230
        }
      ]
    },
    {
      "cell_type": "markdown",
      "metadata": {
        "id": "DIrfLgoPwXQo",
        "colab_type": "text"
      },
      "source": [
        "## **Shape**\n",
        "### **Shape is an attribute that arrays have (not a method):**"
      ]
    },
    {
      "cell_type": "code",
      "metadata": {
        "id": "IHCguC2Osxk9",
        "colab_type": "code",
        "outputId": "b9cce779-b056-488a-9094-ba52254d38fb",
        "colab": {
          "base_uri": "https://localhost:8080/",
          "height": 35
        }
      },
      "source": [
        "# Vector\n",
        "arr.shape"
      ],
      "execution_count": 0,
      "outputs": [
        {
          "output_type": "execute_result",
          "data": {
            "text/plain": [
              "(16,)"
            ]
          },
          "metadata": {
            "tags": []
          },
          "execution_count": 231
        }
      ]
    },
    {
      "cell_type": "code",
      "metadata": {
        "id": "MGkI461f2uu1",
        "colab_type": "code",
        "outputId": "2976d9e4-7a6a-4746-86dd-80fcc66fd81c",
        "colab": {
          "base_uri": "https://localhost:8080/",
          "height": 35
        }
      },
      "source": [
        "# Notice the two sets of brackets\n",
        "arr.reshape(1,16)"
      ],
      "execution_count": 0,
      "outputs": [
        {
          "output_type": "execute_result",
          "data": {
            "text/plain": [
              "array([[ 0,  1,  2,  3,  4,  5,  6,  7,  8,  9, 10, 11, 12, 13, 14, 15]])"
            ]
          },
          "metadata": {
            "tags": []
          },
          "execution_count": 232
        }
      ]
    },
    {
      "cell_type": "code",
      "metadata": {
        "id": "1yv8Iudw3xmQ",
        "colab_type": "code",
        "outputId": "908c1a67-76ad-4ccc-cfb9-4d1a558a336e",
        "colab": {
          "base_uri": "https://localhost:8080/",
          "height": 35
        }
      },
      "source": [
        "arr.reshape(1,16).shape"
      ],
      "execution_count": 0,
      "outputs": [
        {
          "output_type": "execute_result",
          "data": {
            "text/plain": [
              "(1, 16)"
            ]
          },
          "metadata": {
            "tags": []
          },
          "execution_count": 233
        }
      ]
    },
    {
      "cell_type": "code",
      "metadata": {
        "id": "JnvrYIh6xdgy",
        "colab_type": "code",
        "outputId": "ef0ef0c8-07a9-4877-df10-e5d8c84db935",
        "colab": {
          "base_uri": "https://localhost:8080/",
          "height": 308
        }
      },
      "source": [
        "arr.reshape(16,1)"
      ],
      "execution_count": 0,
      "outputs": [
        {
          "output_type": "execute_result",
          "data": {
            "text/plain": [
              "array([[ 0],\n",
              "       [ 1],\n",
              "       [ 2],\n",
              "       [ 3],\n",
              "       [ 4],\n",
              "       [ 5],\n",
              "       [ 6],\n",
              "       [ 7],\n",
              "       [ 8],\n",
              "       [ 9],\n",
              "       [10],\n",
              "       [11],\n",
              "       [12],\n",
              "       [13],\n",
              "       [14],\n",
              "       [15]])"
            ]
          },
          "metadata": {
            "tags": []
          },
          "execution_count": 234
        }
      ]
    },
    {
      "cell_type": "code",
      "metadata": {
        "id": "BHwk5l59xsbE",
        "colab_type": "code",
        "outputId": "fe7e4f12-db64-46df-8e3a-0f04098b3038",
        "colab": {
          "base_uri": "https://localhost:8080/",
          "height": 35
        }
      },
      "source": [
        "arr.reshape(16,1).shape"
      ],
      "execution_count": 0,
      "outputs": [
        {
          "output_type": "execute_result",
          "data": {
            "text/plain": [
              "(16, 1)"
            ]
          },
          "metadata": {
            "tags": []
          },
          "execution_count": 235
        }
      ]
    },
    {
      "cell_type": "markdown",
      "metadata": {
        "id": "Ulhc-bNtx6N0",
        "colab_type": "text"
      },
      "source": [
        "## **dtype**\n",
        "### **You can also grab the data type of the object in the array:**"
      ]
    },
    {
      "cell_type": "code",
      "metadata": {
        "id": "CCBcaN7Axzlo",
        "colab_type": "code",
        "outputId": "57d8e9a6-ae6a-4ddc-e36f-923c3903fb93",
        "colab": {
          "base_uri": "https://localhost:8080/",
          "height": 35
        }
      },
      "source": [
        "arr.dtype"
      ],
      "execution_count": 0,
      "outputs": [
        {
          "output_type": "execute_result",
          "data": {
            "text/plain": [
              "dtype('int64')"
            ]
          },
          "metadata": {
            "tags": []
          },
          "execution_count": 236
        }
      ]
    },
    {
      "cell_type": "markdown",
      "metadata": {
        "id": "9j3MV1n4ttYK",
        "colab_type": "text"
      },
      "source": [
        "##**NumPy Indexing and Selection**\n",
        "###**Now we will learn how to select elements or group of elements from an array**"
      ]
    },
    {
      "cell_type": "markdown",
      "metadata": {
        "id": "1LTdedC8vT1n",
        "colab_type": "text"
      },
      "source": [
        "### **The simplest way of picking up one or more elements from an array looks very similar to python lists**"
      ]
    },
    {
      "cell_type": "code",
      "metadata": {
        "id": "D7sSxxb3udZC",
        "colab_type": "code",
        "outputId": "456295e7-4c43-4940-c1c5-de3d10827fc9",
        "colab": {
          "base_uri": "https://localhost:8080/",
          "height": 35
        }
      },
      "source": [
        "#Get a value at an index\n",
        "arr[5]"
      ],
      "execution_count": 0,
      "outputs": [
        {
          "output_type": "execute_result",
          "data": {
            "text/plain": [
              "5"
            ]
          },
          "metadata": {
            "tags": []
          },
          "execution_count": 237
        }
      ]
    },
    {
      "cell_type": "code",
      "metadata": {
        "id": "fEqEFgliw2aS",
        "colab_type": "code",
        "outputId": "890d2fa0-9a5c-4701-faf0-227d48c48f9f",
        "colab": {
          "base_uri": "https://localhost:8080/",
          "height": 35
        }
      },
      "source": [
        "#Get values in a range\n",
        "arr[1:5]"
      ],
      "execution_count": 0,
      "outputs": [
        {
          "output_type": "execute_result",
          "data": {
            "text/plain": [
              "array([1, 2, 3, 4])"
            ]
          },
          "metadata": {
            "tags": []
          },
          "execution_count": 239
        }
      ]
    },
    {
      "cell_type": "markdown",
      "metadata": {
        "id": "axG0H1nNbkLe",
        "colab_type": "text"
      },
      "source": [
        "## **Broadcasting**\n",
        "### **Numpy arrays differ from a normal Python list because of their ability to broadcast:**"
      ]
    },
    {
      "cell_type": "code",
      "metadata": {
        "id": "b8RjkYf_zjb7",
        "colab_type": "code",
        "outputId": "fedc2d3b-68ac-446c-a5c5-f07daf386fc3",
        "colab": {
          "base_uri": "https://localhost:8080/",
          "height": 54
        }
      },
      "source": [
        "#Setting a value with index range (Broadcasting)\n",
        "arr[0:5]=100\n",
        "\n",
        "#Show\n",
        "arr"
      ],
      "execution_count": 0,
      "outputs": [
        {
          "output_type": "execute_result",
          "data": {
            "text/plain": [
              "array([100, 100, 100, 100, 100,   5,   6,   7,   8,   9,  10,  11,  12,\n",
              "        13,  14,  15])"
            ]
          },
          "metadata": {
            "tags": []
          },
          "execution_count": 240
        }
      ]
    },
    {
      "cell_type": "code",
      "metadata": {
        "id": "hVSct7LqmB6A",
        "colab_type": "code",
        "outputId": "56a0f450-688e-45c7-ad57-3ce32dc88ffc",
        "colab": {
          "base_uri": "https://localhost:8080/",
          "height": 35
        }
      },
      "source": [
        "# Reset array, we'll see the reason behid it soon\n",
        "arr = np.arange(0,11)\n",
        "\n",
        "#Show\n",
        "arr"
      ],
      "execution_count": 0,
      "outputs": [
        {
          "output_type": "execute_result",
          "data": {
            "text/plain": [
              "array([ 0,  1,  2,  3,  4,  5,  6,  7,  8,  9, 10])"
            ]
          },
          "metadata": {
            "tags": []
          },
          "execution_count": 241
        }
      ]
    },
    {
      "cell_type": "code",
      "metadata": {
        "id": "Fugt08s8oU81",
        "colab_type": "code",
        "outputId": "7dfd396c-1f8f-4e6b-b7e8-29c7178bcdd5",
        "colab": {
          "base_uri": "https://localhost:8080/",
          "height": 35
        }
      },
      "source": [
        "slice_of_arr = arr[0:6]\n",
        "\n",
        "#Show slice\n",
        "slice_of_arr"
      ],
      "execution_count": 0,
      "outputs": [
        {
          "output_type": "execute_result",
          "data": {
            "text/plain": [
              "array([0, 1, 2, 3, 4, 5])"
            ]
          },
          "metadata": {
            "tags": []
          },
          "execution_count": 242
        }
      ]
    },
    {
      "cell_type": "code",
      "metadata": {
        "id": "xbm7k6UJo8V2",
        "colab_type": "code",
        "outputId": "f6f482eb-e8d5-4c8d-dc94-03419af4b29d",
        "colab": {
          "base_uri": "https://localhost:8080/",
          "height": 35
        }
      },
      "source": [
        "#Change Slice\n",
        "slice_of_arr[:]=99\n",
        "\n",
        "#Show Slice again\n",
        "slice_of_arr"
      ],
      "execution_count": 0,
      "outputs": [
        {
          "output_type": "execute_result",
          "data": {
            "text/plain": [
              "array([99, 99, 99, 99, 99, 99])"
            ]
          },
          "metadata": {
            "tags": []
          },
          "execution_count": 243
        }
      ]
    },
    {
      "cell_type": "markdown",
      "metadata": {
        "id": "wNZYjC8ZpDl1",
        "colab_type": "text"
      },
      "source": [
        "### Now note the changes also occur in our original array!"
      ]
    },
    {
      "cell_type": "code",
      "metadata": {
        "id": "14pt6jdxpAYY",
        "colab_type": "code",
        "outputId": "e9b93921-4c20-4387-f6f0-90ac21a89341",
        "colab": {
          "base_uri": "https://localhost:8080/",
          "height": 35
        }
      },
      "source": [
        "arr"
      ],
      "execution_count": 0,
      "outputs": [
        {
          "output_type": "execute_result",
          "data": {
            "text/plain": [
              "array([99, 99, 99, 99, 99, 99,  6,  7,  8,  9, 10])"
            ]
          },
          "metadata": {
            "tags": []
          },
          "execution_count": 244
        }
      ]
    },
    {
      "cell_type": "code",
      "metadata": {
        "id": "MNTBCTYipNkw",
        "colab_type": "code",
        "outputId": "0031f948-bce2-474e-f1e6-9b308340034a",
        "colab": {
          "base_uri": "https://localhost:8080/",
          "height": 35
        }
      },
      "source": [
        "#To get a copy, need to be explicit\n",
        "arr_copy = arr.copy()\n",
        "\n",
        "arr_copy"
      ],
      "execution_count": 0,
      "outputs": [
        {
          "output_type": "execute_result",
          "data": {
            "text/plain": [
              "array([99, 99, 99, 99, 99, 99,  6,  7,  8,  9, 10])"
            ]
          },
          "metadata": {
            "tags": []
          },
          "execution_count": 245
        }
      ]
    },
    {
      "cell_type": "markdown",
      "metadata": {
        "id": "kJy-HOZwa3N8",
        "colab_type": "text"
      },
      "source": [
        "## **Indexing a 2D array (matrices)**\n",
        "**The general format is arr_2d[row][col] or arr_2d[row,col].**"
      ]
    },
    {
      "cell_type": "code",
      "metadata": {
        "id": "XaQ-ZCEXaSNk",
        "colab_type": "code",
        "outputId": "5eeeab92-4a4e-4c49-c18c-a637adf2b2fd",
        "colab": {
          "base_uri": "https://localhost:8080/",
          "height": 72
        }
      },
      "source": [
        "arr_2d = np.array(([1,2,3],[4,5,6],[7,8,9]))\n",
        "\n",
        "#Show\n",
        "arr_2d"
      ],
      "execution_count": 0,
      "outputs": [
        {
          "output_type": "execute_result",
          "data": {
            "text/plain": [
              "array([[1, 2, 3],\n",
              "       [4, 5, 6],\n",
              "       [7, 8, 9]])"
            ]
          },
          "metadata": {
            "tags": []
          },
          "execution_count": 246
        }
      ]
    },
    {
      "cell_type": "code",
      "metadata": {
        "id": "9oSwcoyFbbxp",
        "colab_type": "code",
        "outputId": "921fb554-1adb-4924-80be-8a2b28e12353",
        "colab": {
          "base_uri": "https://localhost:8080/",
          "height": 35
        }
      },
      "source": [
        "#Indexing row\n",
        "arr_2d[1]"
      ],
      "execution_count": 0,
      "outputs": [
        {
          "output_type": "execute_result",
          "data": {
            "text/plain": [
              "array([4, 5, 6])"
            ]
          },
          "metadata": {
            "tags": []
          },
          "execution_count": 247
        }
      ]
    },
    {
      "cell_type": "code",
      "metadata": {
        "id": "Lt9cBmXJd4A-",
        "colab_type": "code",
        "outputId": "7315fdee-9634-4dbc-ca3b-e1d579f6941f",
        "colab": {
          "base_uri": "https://localhost:8080/",
          "height": 35
        }
      },
      "source": [
        "# Format is arr_2d[row][col] or arr_2d[row,col]\n",
        "\n",
        "# Getting individual element value\n",
        "arr_2d[1][0]"
      ],
      "execution_count": 0,
      "outputs": [
        {
          "output_type": "execute_result",
          "data": {
            "text/plain": [
              "4"
            ]
          },
          "metadata": {
            "tags": []
          },
          "execution_count": 248
        }
      ]
    },
    {
      "cell_type": "code",
      "metadata": {
        "id": "KPfsFjcueCo-",
        "colab_type": "code",
        "outputId": "c71f8f75-53c2-4e11-ffa2-39b97a638be1",
        "colab": {
          "base_uri": "https://localhost:8080/",
          "height": 35
        }
      },
      "source": [
        "# Getting individual element value\n",
        "arr_2d[1,0]"
      ],
      "execution_count": 0,
      "outputs": [
        {
          "output_type": "execute_result",
          "data": {
            "text/plain": [
              "4"
            ]
          },
          "metadata": {
            "tags": []
          },
          "execution_count": 249
        }
      ]
    },
    {
      "cell_type": "code",
      "metadata": {
        "id": "9bfum5t-eFLc",
        "colab_type": "code",
        "outputId": "e92eddae-f48e-43be-d338-13ff5712ed6a",
        "colab": {
          "base_uri": "https://localhost:8080/",
          "height": 54
        }
      },
      "source": [
        "# 2D array slicing\n",
        "\n",
        "#Shape (2,2) from top right corner\n",
        "arr_2d[:2,1:]"
      ],
      "execution_count": 0,
      "outputs": [
        {
          "output_type": "execute_result",
          "data": {
            "text/plain": [
              "array([[2, 3],\n",
              "       [5, 6]])"
            ]
          },
          "metadata": {
            "tags": []
          },
          "execution_count": 250
        }
      ]
    },
    {
      "cell_type": "code",
      "metadata": {
        "id": "WnP3VrzWeHdH",
        "colab_type": "code",
        "outputId": "219ce390-edd9-45ca-9d3a-69060faf25c0",
        "colab": {
          "base_uri": "https://localhost:8080/",
          "height": 35
        }
      },
      "source": [
        "#Shape bottom row\n",
        "arr_2d[2]"
      ],
      "execution_count": 0,
      "outputs": [
        {
          "output_type": "execute_result",
          "data": {
            "text/plain": [
              "array([7, 8, 9])"
            ]
          },
          "metadata": {
            "tags": []
          },
          "execution_count": 251
        }
      ]
    },
    {
      "cell_type": "code",
      "metadata": {
        "id": "f2v_w3-HeJ0A",
        "colab_type": "code",
        "outputId": "a5b4fb43-8386-4932-c382-e0c7e136659e",
        "colab": {
          "base_uri": "https://localhost:8080/",
          "height": 35
        }
      },
      "source": [
        "#Shape bottom row\n",
        "arr_2d[2,:]"
      ],
      "execution_count": 0,
      "outputs": [
        {
          "output_type": "execute_result",
          "data": {
            "text/plain": [
              "array([7, 8, 9])"
            ]
          },
          "metadata": {
            "tags": []
          },
          "execution_count": 252
        }
      ]
    },
    {
      "cell_type": "markdown",
      "metadata": {
        "id": "DQMZq7RV8qjw",
        "colab_type": "text"
      },
      "source": [
        "## **Selection**\n",
        "**Let's briefly go over how to use brackets for selection based on comparison operators.**"
      ]
    },
    {
      "cell_type": "code",
      "metadata": {
        "id": "-JZtmqJ9eLuv",
        "colab_type": "code",
        "outputId": "e6e585c2-6dc8-4844-8f57-ecce128cc17d",
        "colab": {
          "base_uri": "https://localhost:8080/",
          "height": 35
        }
      },
      "source": [
        "arr1 = np.arange(1,11)\n",
        "arr1"
      ],
      "execution_count": 0,
      "outputs": [
        {
          "output_type": "execute_result",
          "data": {
            "text/plain": [
              "array([ 1,  2,  3,  4,  5,  6,  7,  8,  9, 10])"
            ]
          },
          "metadata": {
            "tags": []
          },
          "execution_count": 253
        }
      ]
    },
    {
      "cell_type": "code",
      "metadata": {
        "id": "VJV6x3aE88dl",
        "colab_type": "code",
        "outputId": "e2b9406a-8e98-4e5e-f184-41f36c2a512f",
        "colab": {
          "base_uri": "https://localhost:8080/",
          "height": 54
        }
      },
      "source": [
        "arr1 > 5"
      ],
      "execution_count": 0,
      "outputs": [
        {
          "output_type": "execute_result",
          "data": {
            "text/plain": [
              "array([False, False, False, False, False,  True,  True,  True,  True,\n",
              "        True])"
            ]
          },
          "metadata": {
            "tags": []
          },
          "execution_count": 254
        }
      ]
    },
    {
      "cell_type": "code",
      "metadata": {
        "id": "ExrNYRDC-vo0",
        "colab_type": "code",
        "colab": {}
      },
      "source": [
        "bool_arr = arr1 > 5"
      ],
      "execution_count": 0,
      "outputs": []
    },
    {
      "cell_type": "code",
      "metadata": {
        "id": "_rwUhiLd-4PT",
        "colab_type": "code",
        "outputId": "df1ee8fb-8224-40c2-ecc1-835390fe283a",
        "colab": {
          "base_uri": "https://localhost:8080/",
          "height": 54
        }
      },
      "source": [
        "bool_arr"
      ],
      "execution_count": 0,
      "outputs": [
        {
          "output_type": "execute_result",
          "data": {
            "text/plain": [
              "array([False, False, False, False, False,  True,  True,  True,  True,\n",
              "        True])"
            ]
          },
          "metadata": {
            "tags": []
          },
          "execution_count": 256
        }
      ]
    },
    {
      "cell_type": "code",
      "metadata": {
        "id": "abau1dWp-9by",
        "colab_type": "code",
        "outputId": "216e8dc7-150b-4b33-c2c0-63252244f09b",
        "colab": {
          "base_uri": "https://localhost:8080/",
          "height": 35
        }
      },
      "source": [
        "arr1[bool_arr]"
      ],
      "execution_count": 0,
      "outputs": [
        {
          "output_type": "execute_result",
          "data": {
            "text/plain": [
              "array([ 6,  7,  8,  9, 10])"
            ]
          },
          "metadata": {
            "tags": []
          },
          "execution_count": 257
        }
      ]
    },
    {
      "cell_type": "code",
      "metadata": {
        "id": "TxjJF1xd-_ni",
        "colab_type": "code",
        "outputId": "54717bb6-2d34-428c-ce90-a3787b4a84c1",
        "colab": {
          "base_uri": "https://localhost:8080/",
          "height": 35
        }
      },
      "source": [
        "arr1[arr1 > 2]"
      ],
      "execution_count": 0,
      "outputs": [
        {
          "output_type": "execute_result",
          "data": {
            "text/plain": [
              "array([ 3,  4,  5,  6,  7,  8,  9, 10])"
            ]
          },
          "metadata": {
            "tags": []
          },
          "execution_count": 258
        }
      ]
    },
    {
      "cell_type": "code",
      "metadata": {
        "id": "o6QlaLio_D0b",
        "colab_type": "code",
        "outputId": "e3eefbe6-25c6-4624-c27f-4a9c57a0a5de",
        "colab": {
          "base_uri": "https://localhost:8080/",
          "height": 35
        }
      },
      "source": [
        "x = 2\n",
        "arr1[arr1 > x]"
      ],
      "execution_count": 0,
      "outputs": [
        {
          "output_type": "execute_result",
          "data": {
            "text/plain": [
              "array([ 3,  4,  5,  6,  7,  8,  9, 10])"
            ]
          },
          "metadata": {
            "tags": []
          },
          "execution_count": 259
        }
      ]
    },
    {
      "cell_type": "markdown",
      "metadata": {
        "id": "66utzqQSCJ8e",
        "colab_type": "text"
      },
      "source": [
        "# **NumPy Operations**\n",
        "\n",
        "## **Arithmetic**\n",
        "### **You can easily perform array with array arithmetic, or scalar with array arithmetic. Let's see some examples:**"
      ]
    },
    {
      "cell_type": "code",
      "metadata": {
        "id": "gPRziYTL_IEB",
        "colab_type": "code",
        "colab": {}
      },
      "source": [
        "arr2 = np.arange(0,10)"
      ],
      "execution_count": 0,
      "outputs": []
    },
    {
      "cell_type": "code",
      "metadata": {
        "id": "laCtVcaOCc7g",
        "colab_type": "code",
        "outputId": "46af997c-3186-43d5-fd32-f111b0cb303a",
        "colab": {
          "base_uri": "https://localhost:8080/",
          "height": 35
        }
      },
      "source": [
        "arr2 + arr2"
      ],
      "execution_count": 0,
      "outputs": [
        {
          "output_type": "execute_result",
          "data": {
            "text/plain": [
              "array([ 0,  2,  4,  6,  8, 10, 12, 14, 16, 18])"
            ]
          },
          "metadata": {
            "tags": []
          },
          "execution_count": 261
        }
      ]
    },
    {
      "cell_type": "code",
      "metadata": {
        "id": "QY3QJbUdCgit",
        "colab_type": "code",
        "outputId": "f9749ea4-3f67-452b-c6f6-531f1c5fb0d5",
        "colab": {
          "base_uri": "https://localhost:8080/",
          "height": 35
        }
      },
      "source": [
        "arr2 * arr2"
      ],
      "execution_count": 0,
      "outputs": [
        {
          "output_type": "execute_result",
          "data": {
            "text/plain": [
              "array([ 0,  1,  4,  9, 16, 25, 36, 49, 64, 81])"
            ]
          },
          "metadata": {
            "tags": []
          },
          "execution_count": 262
        }
      ]
    },
    {
      "cell_type": "code",
      "metadata": {
        "id": "uz34sQMUCkyg",
        "colab_type": "code",
        "outputId": "121328a7-16d5-4dee-fe70-25e3aab450bc",
        "colab": {
          "base_uri": "https://localhost:8080/",
          "height": 35
        }
      },
      "source": [
        "arr2 - arr2"
      ],
      "execution_count": 0,
      "outputs": [
        {
          "output_type": "execute_result",
          "data": {
            "text/plain": [
              "array([0, 0, 0, 0, 0, 0, 0, 0, 0, 0])"
            ]
          },
          "metadata": {
            "tags": []
          },
          "execution_count": 263
        }
      ]
    },
    {
      "cell_type": "code",
      "metadata": {
        "id": "4L0Fyke_Cn5u",
        "colab_type": "code",
        "outputId": "7c7feeaf-0223-46d1-b8ee-1d20e0150868",
        "colab": {
          "base_uri": "https://localhost:8080/",
          "height": 72
        }
      },
      "source": [
        "# Warning on division by zero, but not an error!\n",
        "# Just replaced with nan\n",
        "arr2 / arr2"
      ],
      "execution_count": 0,
      "outputs": [
        {
          "output_type": "stream",
          "text": [
            "/usr/local/lib/python3.6/dist-packages/ipykernel_launcher.py:3: RuntimeWarning: invalid value encountered in true_divide\n",
            "  This is separate from the ipykernel package so we can avoid doing imports until\n"
          ],
          "name": "stderr"
        },
        {
          "output_type": "execute_result",
          "data": {
            "text/plain": [
              "array([nan,  1.,  1.,  1.,  1.,  1.,  1.,  1.,  1.,  1.])"
            ]
          },
          "metadata": {
            "tags": []
          },
          "execution_count": 264
        }
      ]
    },
    {
      "cell_type": "code",
      "metadata": {
        "id": "2rKFA31tCw_E",
        "colab_type": "code",
        "outputId": "d76f7f2b-670e-40f6-a60f-14980766dd87",
        "colab": {
          "base_uri": "https://localhost:8080/",
          "height": 90
        }
      },
      "source": [
        "# Also warning, but not an error instead infinity\n",
        "1 / arr2"
      ],
      "execution_count": 0,
      "outputs": [
        {
          "output_type": "stream",
          "text": [
            "/usr/local/lib/python3.6/dist-packages/ipykernel_launcher.py:2: RuntimeWarning: divide by zero encountered in true_divide\n",
            "  \n"
          ],
          "name": "stderr"
        },
        {
          "output_type": "execute_result",
          "data": {
            "text/plain": [
              "array([       inf, 1.        , 0.5       , 0.33333333, 0.25      ,\n",
              "       0.2       , 0.16666667, 0.14285714, 0.125     , 0.11111111])"
            ]
          },
          "metadata": {
            "tags": []
          },
          "execution_count": 265
        }
      ]
    },
    {
      "cell_type": "code",
      "metadata": {
        "id": "q-S4FW0qC4b1",
        "colab_type": "code",
        "outputId": "6ef2eaca-08f7-4be7-8353-eec1c8c58cfe",
        "colab": {
          "base_uri": "https://localhost:8080/",
          "height": 35
        }
      },
      "source": [
        "arr2 ** 3"
      ],
      "execution_count": 0,
      "outputs": [
        {
          "output_type": "execute_result",
          "data": {
            "text/plain": [
              "array([  0,   1,   8,  27,  64, 125, 216, 343, 512, 729])"
            ]
          },
          "metadata": {
            "tags": []
          },
          "execution_count": 266
        }
      ]
    },
    {
      "cell_type": "markdown",
      "metadata": {
        "id": "8BSUNMrcDWJz",
        "colab_type": "text"
      },
      "source": [
        "## **Universal Array Functions**\n",
        "### **Numpy comes with many universal array functions, which are essentially just mathematical operations you can use to perform the operation across the array. Let's show some common ones:**"
      ]
    },
    {
      "cell_type": "code",
      "metadata": {
        "id": "rqPmXNSMDP6k",
        "colab_type": "code",
        "outputId": "fece2209-af77-452c-ce33-c9e7d1f5e1b3",
        "colab": {
          "base_uri": "https://localhost:8080/",
          "height": 54
        }
      },
      "source": [
        "#Taking Square Roots\n",
        "np.sqrt(arr2)"
      ],
      "execution_count": 0,
      "outputs": [
        {
          "output_type": "execute_result",
          "data": {
            "text/plain": [
              "array([0.        , 1.        , 1.41421356, 1.73205081, 2.        ,\n",
              "       2.23606798, 2.44948974, 2.64575131, 2.82842712, 3.        ])"
            ]
          },
          "metadata": {
            "tags": []
          },
          "execution_count": 267
        }
      ]
    },
    {
      "cell_type": "code",
      "metadata": {
        "id": "G65-fSvdDhmo",
        "colab_type": "code",
        "outputId": "340482ed-93a0-42b2-ce07-258d1622aa9b",
        "colab": {
          "base_uri": "https://localhost:8080/",
          "height": 72
        }
      },
      "source": [
        "#Calcualting exponential (e^)\n",
        "np.exp(arr2)"
      ],
      "execution_count": 0,
      "outputs": [
        {
          "output_type": "execute_result",
          "data": {
            "text/plain": [
              "array([1.00000000e+00, 2.71828183e+00, 7.38905610e+00, 2.00855369e+01,\n",
              "       5.45981500e+01, 1.48413159e+02, 4.03428793e+02, 1.09663316e+03,\n",
              "       2.98095799e+03, 8.10308393e+03])"
            ]
          },
          "metadata": {
            "tags": []
          },
          "execution_count": 268
        }
      ]
    },
    {
      "cell_type": "code",
      "metadata": {
        "id": "ziwzZGd4Dm8l",
        "colab_type": "code",
        "outputId": "03beea3b-aac4-4c44-85fb-7d6fb5ba4f60",
        "colab": {
          "base_uri": "https://localhost:8080/",
          "height": 35
        }
      },
      "source": [
        "np.max(arr2) #same as arr.max()"
      ],
      "execution_count": 0,
      "outputs": [
        {
          "output_type": "execute_result",
          "data": {
            "text/plain": [
              "9"
            ]
          },
          "metadata": {
            "tags": []
          },
          "execution_count": 269
        }
      ]
    },
    {
      "cell_type": "code",
      "metadata": {
        "id": "yoHDb-svDqm_",
        "colab_type": "code",
        "outputId": "820fe9b4-c525-42b9-a2ef-4fb1fac62b48",
        "colab": {
          "base_uri": "https://localhost:8080/",
          "height": 54
        }
      },
      "source": [
        "np.sin(arr2)"
      ],
      "execution_count": 0,
      "outputs": [
        {
          "output_type": "execute_result",
          "data": {
            "text/plain": [
              "array([ 0.        ,  0.84147098,  0.90929743,  0.14112001, -0.7568025 ,\n",
              "       -0.95892427, -0.2794155 ,  0.6569866 ,  0.98935825,  0.41211849])"
            ]
          },
          "metadata": {
            "tags": []
          },
          "execution_count": 270
        }
      ]
    },
    {
      "cell_type": "code",
      "metadata": {
        "id": "5NKBpBwaDtph",
        "colab_type": "code",
        "outputId": "ee0a877f-8220-44e5-e107-552b41724d47",
        "colab": {
          "base_uri": "https://localhost:8080/",
          "height": 90
        }
      },
      "source": [
        "np.log(arr2)"
      ],
      "execution_count": 0,
      "outputs": [
        {
          "output_type": "stream",
          "text": [
            "/usr/local/lib/python3.6/dist-packages/ipykernel_launcher.py:1: RuntimeWarning: divide by zero encountered in log\n",
            "  \"\"\"Entry point for launching an IPython kernel.\n"
          ],
          "name": "stderr"
        },
        {
          "output_type": "execute_result",
          "data": {
            "text/plain": [
              "array([      -inf, 0.        , 0.69314718, 1.09861229, 1.38629436,\n",
              "       1.60943791, 1.79175947, 1.94591015, 2.07944154, 2.19722458])"
            ]
          },
          "metadata": {
            "tags": []
          },
          "execution_count": 271
        }
      ]
    },
    {
      "cell_type": "markdown",
      "metadata": {
        "id": "2biCKkj7h6r-",
        "colab_type": "text"
      },
      "source": [
        "## **Vectorization**"
      ]
    },
    {
      "cell_type": "code",
      "metadata": {
        "id": "DIuB5yL4iAUI",
        "colab_type": "code",
        "outputId": "7787dbd4-4574-4c0a-e0f1-7776e5e6c328",
        "colab": {
          "base_uri": "https://localhost:8080/",
          "height": 35
        }
      },
      "source": [
        "import time\n",
        "\n",
        "a = np.random.rand(1000000)\n",
        "b = np.random.rand(1000000)\n",
        "\n",
        "tic= time.time()\n",
        "c = np.dot(a,b)\n",
        "toc = time.time()\n",
        "\n",
        "print(\"Time taken in vectorized version: \"+str(1000 * (toc - tic) )+\" ms\")"
      ],
      "execution_count": 0,
      "outputs": [
        {
          "output_type": "stream",
          "text": [
            "Time taken in vectorized version: 1.483917236328125 ms\n"
          ],
          "name": "stdout"
        }
      ]
    },
    {
      "cell_type": "markdown",
      "metadata": {
        "id": "8odX_58pm7oT",
        "colab_type": "text"
      },
      "source": [
        "## **For loop version**"
      ]
    },
    {
      "cell_type": "code",
      "metadata": {
        "id": "MZHdafmZkSjU",
        "colab_type": "code",
        "outputId": "86a32204-b2c9-4467-f6b8-9915c8eb104a",
        "colab": {
          "base_uri": "https://localhost:8080/",
          "height": 35
        }
      },
      "source": [
        "c = 0\n",
        "\n",
        "tic = time.time()\n",
        "for i in range(1000000):\n",
        "  c += a[i] * b[i]  \n",
        "\n",
        "toc = time.time()\n",
        "print(\"Time taken in for loop version: \"+str(1000 *(toc - tic)) + \" ms\")"
      ],
      "execution_count": 0,
      "outputs": [
        {
          "output_type": "stream",
          "text": [
            "Time taken in for loop version: 579.4703960418701 ms\n"
          ],
          "name": "stdout"
        }
      ]
    },
    {
      "cell_type": "code",
      "metadata": {
        "id": "4u_HlkjTlmVb",
        "colab_type": "code",
        "colab": {}
      },
      "source": [
        ""
      ],
      "execution_count": 0,
      "outputs": []
    }
  ]
}